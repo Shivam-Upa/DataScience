{
 "cells": [
  {
   "cell_type": "code",
   "execution_count": 84,
   "metadata": {},
   "outputs": [],
   "source": [
    "import requests\n",
    "from bs4 import BeautifulSoup\n",
    "import pandas as pd"
   ]
  },
  {
   "cell_type": "code",
   "execution_count": 95,
   "metadata": {},
   "outputs": [],
   "source": [
    "HEADERS = {'User-Agent': 'Mozilla/5.0 (iPad; CPU OS 12_2 like Mac OS X) AppleWebKit/605.1.15 (KHTML, like Gecko) Mobile/15E148'}\n",
    "site = 'https://books.toscrape.com/catalogue/page-1.html'\n",
    "page = requests.get(site, headers=HEADERS)"
   ]
  },
  {
   "cell_type": "code",
   "execution_count": 96,
   "metadata": {},
   "outputs": [],
   "source": [
    "soup = BeautifulSoup(page.text)"
   ]
  },
  {
   "cell_type": "code",
   "execution_count": 97,
   "metadata": {},
   "outputs": [
    {
     "data": {
      "text/plain": [
       "\" \\n\\n\\n    All products | Books to Scrape - Sandbox\\n\\n\\n\\n\\n\\n\\n\\n\\n\\n\\n\\n\\n\\n\\n\\n\\n\\nBooks to Scrape We love being scraped!\\n\\n\\n\\n\\n\\n\\n\\n\\nHome\\n\\nAll products\\n\\n\\n\\n\\n\\n\\n\\n\\n\\n                            \\n                                Books\\n                            \\n                        \\n\\n\\n\\n                            \\n                                Travel\\n                            \\n                        \\n\\n\\n\\n                            \\n                                Mystery\\n                            \\n                        \\n\\n\\n\\n                            \\n                                Historical Fiction\\n                            \\n                        \\n\\n\\n\\n                            \\n                                Sequential Art\\n                            \\n                        \\n\\n\\n\\n                            \\n                                Classics\\n                            \\n                        \\n\\n\\n\\n                            \\n                                Philosophy\\n                            \\n                        \\n\\n\\n\\n                            \\n                                Romance\\n                            \\n                        \\n\\n\\n\\n                            \\n                                Womens Fiction\\n                            \\n                        \\n\\n\\n\\n                            \\n                                Fiction\\n                            \\n                        \\n\\n\\n\\n                            \\n                                Childrens\\n                            \\n                        \\n\\n\\n\\n                            \\n                                Religion\\n                            \\n                        \\n\\n\\n\\n                            \\n                                Nonfiction\\n                            \\n                        \\n\\n\\n\\n                            \\n                                Music\\n                            \\n                        \\n\\n\\n\\n                            \\n                                Default\\n                            \\n                        \\n\\n\\n\\n                            \\n                                Science Fiction\\n                            \\n                        \\n\\n\\n\\n                            \\n                                Sports and Games\\n                            \\n                        \\n\\n\\n\\n                            \\n                                Add a comment\\n                            \\n                        \\n\\n\\n\\n                            \\n                                Fantasy\\n                            \\n                        \\n\\n\\n\\n                            \\n                                New Adult\\n                            \\n                        \\n\\n\\n\\n                            \\n                                Young Adult\\n                            \\n                        \\n\\n\\n\\n                            \\n                                Science\\n                            \\n                        \\n\\n\\n\\n                            \\n                                Poetry\\n                            \\n                        \\n\\n\\n\\n                            \\n                                Paranormal\\n                            \\n                        \\n\\n\\n\\n                            \\n                                Art\\n                            \\n                        \\n\\n\\n\\n                            \\n                                Psychology\\n                            \\n                        \\n\\n\\n\\n                            \\n                                Autobiography\\n                            \\n                        \\n\\n\\n\\n                            \\n                                Parenting\\n                            \\n                        \\n\\n\\n\\n                            \\n                                Adult Fiction\\n                            \\n                        \\n\\n\\n\\n                            \\n                                Humor\\n                            \\n                        \\n\\n\\n\\n                            \\n                                Horror\\n                            \\n                        \\n\\n\\n\\n                            \\n                                History\\n                            \\n                        \\n\\n\\n\\n                            \\n                                Food and Drink\\n                            \\n                        \\n\\n\\n\\n                            \\n                                Christian Fiction\\n                            \\n                        \\n\\n\\n\\n                            \\n                                Business\\n                            \\n                        \\n\\n\\n\\n                            \\n                                Biography\\n                            \\n                        \\n\\n\\n\\n                            \\n                                Thriller\\n                            \\n                        \\n\\n\\n\\n                            \\n                                Contemporary\\n                            \\n                        \\n\\n\\n\\n                            \\n                                Spirituality\\n                            \\n                        \\n\\n\\n\\n                            \\n                                Academic\\n                            \\n                        \\n\\n\\n\\n                            \\n                                Self Help\\n                            \\n                        \\n\\n\\n\\n                            \\n                                Historical\\n                            \\n                        \\n\\n\\n\\n                            \\n                                Christian\\n                            \\n                        \\n\\n\\n\\n                            \\n                                Suspense\\n                            \\n                        \\n\\n\\n\\n                            \\n                                Short Stories\\n                            \\n                        \\n\\n\\n\\n                            \\n                                Novels\\n                            \\n                        \\n\\n\\n\\n                            \\n                                Health\\n                            \\n                        \\n\\n\\n\\n                            \\n                                Politics\\n                            \\n                        \\n\\n\\n\\n                            \\n                                Cultural\\n                            \\n                        \\n\\n\\n\\n                            \\n                                Erotica\\n                            \\n                        \\n\\n\\n\\n                            \\n                                Crime\\n                            \\n                        \\n\\n\\n\\n\\n\\n\\n\\nAll products\\n\\n\\n\\n\\n\\n\\n\\n\\n1000 results - showing 1 to 20.\\n                \\n            \\n            \\n        \\n    \\n\\nWarning! This is a demo website for web scraping purposes. Prices and ratings here were randomly assigned and have no real meaning.\\n\\n\\n\\n\\n\\n\\n\\n\\n\\n\\n\\n\\n\\n\\nA Light in the ...\\n\\nÂ£51.77\\n\\n\\n    \\n        In stock\\n    \\n\\n\\nAdd to basket\\n\\n\\n\\n\\n\\n\\n\\n\\n\\n\\n\\n\\n\\n\\n\\n\\nTipping the Velvet\\n\\nÂ£53.74\\n\\n\\n    \\n        In stock\\n    \\n\\n\\nAdd to basket\\n\\n\\n\\n\\n\\n\\n\\n\\n\\n\\n\\n\\n\\n\\n\\n\\nSoumission\\n\\nÂ£50.10\\n\\n\\n    \\n        In stock\\n    \\n\\n\\nAdd to basket\\n\\n\\n\\n\\n\\n\\n\\n\\n\\n\\n\\n\\n\\n\\n\\n\\nSharp Objects\\n\\nÂ£47.82\\n\\n\\n    \\n        In stock\\n    \\n\\n\\nAdd to basket\\n\\n\\n\\n\\n\\n\\n\\n\\n\\n\\n\\n\\n\\n\\n\\n\\nSapiens: A Brief History ...\\n\\nÂ£54.23\\n\\n\\n    \\n        In stock\\n    \\n\\n\\nAdd to basket\\n\\n\\n\\n\\n\\n\\n\\n\\n\\n\\n\\n\\n\\n\\n\\n\\nThe Requiem Red\\n\\nÂ£22.65\\n\\n\\n    \\n        In stock\\n    \\n\\n\\nAdd to basket\\n\\n\\n\\n\\n\\n\\n\\n\\n\\n\\n\\n\\n\\n\\n\\n\\nThe Dirty Little Secrets ...\\n\\nÂ£33.34\\n\\n\\n    \\n        In stock\\n    \\n\\n\\nAdd to basket\\n\\n\\n\\n\\n\\n\\n\\n\\n\\n\\n\\n\\n\\n\\n\\n\\nThe Coming Woman: A ...\\n\\nÂ£17.93\\n\\n\\n    \\n        In stock\\n    \\n\\n\\nAdd to basket\\n\\n\\n\\n\\n\\n\\n\\n\\n\\n\\n\\n\\n\\n\\n\\n\\nThe Boys in the ...\\n\\nÂ£22.60\\n\\n\\n    \\n        In stock\\n    \\n\\n\\nAdd to basket\\n\\n\\n\\n\\n\\n\\n\\n\\n\\n\\n\\n\\n\\n\\n\\n\\nThe Black Maria\\n\\nÂ£52.15\\n\\n\\n    \\n        In stock\\n    \\n\\n\\nAdd to basket\\n\\n\\n\\n\\n\\n\\n\\n\\n\\n\\n\\n\\n\\n\\n\\n\\nStarving Hearts (Triangular Trade ...\\n\\nÂ£13.99\\n\\n\\n    \\n        In stock\\n    \\n\\n\\nAdd to basket\\n\\n\\n\\n\\n\\n\\n\\n\\n\\n\\n\\n\\n\\n\\n\\n\\nShakespeare's Sonnets\\n\\nÂ£20.66\\n\\n\\n    \\n        In stock\\n    \\n\\n\\nAdd to basket\\n\\n\\n\\n\\n\\n\\n\\n\\n\\n\\n\\n\\n\\n\\n\\n\\nSet Me Free\\n\\nÂ£17.46\\n\\n\\n    \\n        In stock\\n    \\n\\n\\nAdd to basket\\n\\n\\n\\n\\n\\n\\n\\n\\n\\n\\n\\n\\n\\n\\n\\n\\nScott Pilgrim's Precious Little ...\\n\\nÂ£52.29\\n\\n\\n    \\n        In stock\\n    \\n\\n\\nAdd to basket\\n\\n\\n\\n\\n\\n\\n\\n\\n\\n\\n\\n\\n\\n\\n\\n\\nRip it Up and ...\\n\\nÂ£35.02\\n\\n\\n    \\n        In stock\\n    \\n\\n\\nAdd to basket\\n\\n\\n\\n\\n\\n\\n\\n\\n\\n\\n\\n\\n\\n\\n\\n\\nOur Band Could Be ...\\n\\nÂ£57.25\\n\\n\\n    \\n        In stock\\n    \\n\\n\\nAdd to basket\\n\\n\\n\\n\\n\\n\\n\\n\\n\\n\\n\\n\\n\\n\\n\\n\\nOlio\\n\\nÂ£23.88\\n\\n\\n    \\n        In stock\\n    \\n\\n\\nAdd to basket\\n\\n\\n\\n\\n\\n\\n\\n\\n\\n\\n\\n\\n\\n\\n\\n\\nMesaerion: The Best Science ...\\n\\nÂ£37.59\\n\\n\\n    \\n        In stock\\n    \\n\\n\\nAdd to basket\\n\\n\\n\\n\\n\\n\\n\\n\\n\\n\\n\\n\\n\\n\\n\\n\\nLibertarianism for Beginners\\n\\nÂ£51.33\\n\\n\\n    \\n        In stock\\n    \\n\\n\\nAdd to basket\\n\\n\\n\\n\\n\\n\\n\\n\\n\\n\\n\\n\\n\\n\\n\\n\\nIt's Only the Himalayas\\n\\nÂ£45.17\\n\\n\\n    \\n        In stock\\n    \\n\\n\\nAdd to basket\\n\\n\\n\\n\\n\\n\\n\\n\\n            \\n                Page 1 of 50\\n            \\n            \\nnext\\n\\n\\n\\n\\n\\n\\n\\n\\n\\n\\n\\n\\n\\n\\n\\n\\n\\n\\n\\n\\n\\n\\n\\n\""
      ]
     },
     "execution_count": 97,
     "metadata": {},
     "output_type": "execute_result"
    }
   ],
   "source": [
    "soup.text"
   ]
  },
  {
   "cell_type": "code",
   "execution_count": 98,
   "metadata": {},
   "outputs": [
    {
     "name": "stdout",
     "output_type": "stream",
     "text": [
      "All products\n"
     ]
    }
   ],
   "source": [
    "print(soup.find('h1').text)"
   ]
  },
  {
   "cell_type": "code",
   "execution_count": 99,
   "metadata": {},
   "outputs": [],
   "source": [
    "data = soup('ol', class_='row')"
   ]
  },
  {
   "cell_type": "code",
   "execution_count": 100,
   "metadata": {},
   "outputs": [
    {
     "data": {
      "text/plain": [
       "1"
      ]
     },
     "execution_count": 100,
     "metadata": {},
     "output_type": "execute_result"
    }
   ],
   "source": [
    "len(data)"
   ]
  },
  {
   "cell_type": "code",
   "execution_count": 101,
   "metadata": {},
   "outputs": [
    {
     "data": {
      "text/plain": [
       "20"
      ]
     },
     "execution_count": 101,
     "metadata": {},
     "output_type": "execute_result"
    }
   ],
   "source": [
    "data2 = soup('article', class_='product_pod')\n",
    "len(data2)"
   ]
  },
  {
   "cell_type": "code",
   "execution_count": 102,
   "metadata": {},
   "outputs": [],
   "source": [
    "title = []\n",
    "for i in data2:\n",
    "    title.append(i.find('h3').text)"
   ]
  },
  {
   "cell_type": "code",
   "execution_count": 103,
   "metadata": {},
   "outputs": [],
   "source": [
    "price = []\n",
    "for i in data2:\n",
    "    price.append(i.find('p', class_='price_color').text)"
   ]
  },
  {
   "cell_type": "code",
   "execution_count": 104,
   "metadata": {},
   "outputs": [],
   "source": [
    "stock_availability = []\n",
    "for i in data2:\n",
    "    stock_availability.append(i.find('p', class_='instock').text.strip())"
   ]
  },
  {
   "cell_type": "code",
   "execution_count": 105,
   "metadata": {},
   "outputs": [],
   "source": [
    "#data = [title,price,stock_availability]\n",
    "data = {'Title':title, 'Price':price, 'Availability':stock_availability}\n",
    "\n",
    "df = pd.DataFrame(data)"
   ]
  },
  {
   "cell_type": "code",
   "execution_count": 106,
   "metadata": {},
   "outputs": [
    {
     "data": {
      "text/html": [
       "<div>\n",
       "<style scoped>\n",
       "    .dataframe tbody tr th:only-of-type {\n",
       "        vertical-align: middle;\n",
       "    }\n",
       "\n",
       "    .dataframe tbody tr th {\n",
       "        vertical-align: top;\n",
       "    }\n",
       "\n",
       "    .dataframe thead th {\n",
       "        text-align: right;\n",
       "    }\n",
       "</style>\n",
       "<table border=\"1\" class=\"dataframe\">\n",
       "  <thead>\n",
       "    <tr style=\"text-align: right;\">\n",
       "      <th></th>\n",
       "      <th>Title</th>\n",
       "      <th>Price</th>\n",
       "      <th>Availability</th>\n",
       "    </tr>\n",
       "  </thead>\n",
       "  <tbody>\n",
       "    <tr>\n",
       "      <th>0</th>\n",
       "      <td>A Light in the ...</td>\n",
       "      <td>Â£51.77</td>\n",
       "      <td>In stock</td>\n",
       "    </tr>\n",
       "    <tr>\n",
       "      <th>1</th>\n",
       "      <td>Tipping the Velvet</td>\n",
       "      <td>Â£53.74</td>\n",
       "      <td>In stock</td>\n",
       "    </tr>\n",
       "    <tr>\n",
       "      <th>2</th>\n",
       "      <td>Soumission</td>\n",
       "      <td>Â£50.10</td>\n",
       "      <td>In stock</td>\n",
       "    </tr>\n",
       "    <tr>\n",
       "      <th>3</th>\n",
       "      <td>Sharp Objects</td>\n",
       "      <td>Â£47.82</td>\n",
       "      <td>In stock</td>\n",
       "    </tr>\n",
       "    <tr>\n",
       "      <th>4</th>\n",
       "      <td>Sapiens: A Brief History ...</td>\n",
       "      <td>Â£54.23</td>\n",
       "      <td>In stock</td>\n",
       "    </tr>\n",
       "    <tr>\n",
       "      <th>5</th>\n",
       "      <td>The Requiem Red</td>\n",
       "      <td>Â£22.65</td>\n",
       "      <td>In stock</td>\n",
       "    </tr>\n",
       "    <tr>\n",
       "      <th>6</th>\n",
       "      <td>The Dirty Little Secrets ...</td>\n",
       "      <td>Â£33.34</td>\n",
       "      <td>In stock</td>\n",
       "    </tr>\n",
       "    <tr>\n",
       "      <th>7</th>\n",
       "      <td>The Coming Woman: A ...</td>\n",
       "      <td>Â£17.93</td>\n",
       "      <td>In stock</td>\n",
       "    </tr>\n",
       "    <tr>\n",
       "      <th>8</th>\n",
       "      <td>The Boys in the ...</td>\n",
       "      <td>Â£22.60</td>\n",
       "      <td>In stock</td>\n",
       "    </tr>\n",
       "    <tr>\n",
       "      <th>9</th>\n",
       "      <td>The Black Maria</td>\n",
       "      <td>Â£52.15</td>\n",
       "      <td>In stock</td>\n",
       "    </tr>\n",
       "    <tr>\n",
       "      <th>10</th>\n",
       "      <td>Starving Hearts (Triangular Trade ...</td>\n",
       "      <td>Â£13.99</td>\n",
       "      <td>In stock</td>\n",
       "    </tr>\n",
       "    <tr>\n",
       "      <th>11</th>\n",
       "      <td>Shakespeare's Sonnets</td>\n",
       "      <td>Â£20.66</td>\n",
       "      <td>In stock</td>\n",
       "    </tr>\n",
       "    <tr>\n",
       "      <th>12</th>\n",
       "      <td>Set Me Free</td>\n",
       "      <td>Â£17.46</td>\n",
       "      <td>In stock</td>\n",
       "    </tr>\n",
       "    <tr>\n",
       "      <th>13</th>\n",
       "      <td>Scott Pilgrim's Precious Little ...</td>\n",
       "      <td>Â£52.29</td>\n",
       "      <td>In stock</td>\n",
       "    </tr>\n",
       "    <tr>\n",
       "      <th>14</th>\n",
       "      <td>Rip it Up and ...</td>\n",
       "      <td>Â£35.02</td>\n",
       "      <td>In stock</td>\n",
       "    </tr>\n",
       "    <tr>\n",
       "      <th>15</th>\n",
       "      <td>Our Band Could Be ...</td>\n",
       "      <td>Â£57.25</td>\n",
       "      <td>In stock</td>\n",
       "    </tr>\n",
       "    <tr>\n",
       "      <th>16</th>\n",
       "      <td>Olio</td>\n",
       "      <td>Â£23.88</td>\n",
       "      <td>In stock</td>\n",
       "    </tr>\n",
       "    <tr>\n",
       "      <th>17</th>\n",
       "      <td>Mesaerion: The Best Science ...</td>\n",
       "      <td>Â£37.59</td>\n",
       "      <td>In stock</td>\n",
       "    </tr>\n",
       "    <tr>\n",
       "      <th>18</th>\n",
       "      <td>Libertarianism for Beginners</td>\n",
       "      <td>Â£51.33</td>\n",
       "      <td>In stock</td>\n",
       "    </tr>\n",
       "    <tr>\n",
       "      <th>19</th>\n",
       "      <td>It's Only the Himalayas</td>\n",
       "      <td>Â£45.17</td>\n",
       "      <td>In stock</td>\n",
       "    </tr>\n",
       "  </tbody>\n",
       "</table>\n",
       "</div>"
      ],
      "text/plain": [
       "                                    Title    Price Availability\n",
       "0                      A Light in the ...  Â£51.77     In stock\n",
       "1                      Tipping the Velvet  Â£53.74     In stock\n",
       "2                              Soumission  Â£50.10     In stock\n",
       "3                           Sharp Objects  Â£47.82     In stock\n",
       "4            Sapiens: A Brief History ...  Â£54.23     In stock\n",
       "5                         The Requiem Red  Â£22.65     In stock\n",
       "6            The Dirty Little Secrets ...  Â£33.34     In stock\n",
       "7                 The Coming Woman: A ...  Â£17.93     In stock\n",
       "8                     The Boys in the ...  Â£22.60     In stock\n",
       "9                         The Black Maria  Â£52.15     In stock\n",
       "10  Starving Hearts (Triangular Trade ...  Â£13.99     In stock\n",
       "11                  Shakespeare's Sonnets  Â£20.66     In stock\n",
       "12                            Set Me Free  Â£17.46     In stock\n",
       "13    Scott Pilgrim's Precious Little ...  Â£52.29     In stock\n",
       "14                      Rip it Up and ...  Â£35.02     In stock\n",
       "15                  Our Band Could Be ...  Â£57.25     In stock\n",
       "16                                   Olio  Â£23.88     In stock\n",
       "17        Mesaerion: The Best Science ...  Â£37.59     In stock\n",
       "18           Libertarianism for Beginners  Â£51.33     In stock\n",
       "19                It's Only the Himalayas  Â£45.17     In stock"
      ]
     },
     "execution_count": 106,
     "metadata": {},
     "output_type": "execute_result"
    }
   ],
   "source": [
    "df"
   ]
  },
  {
   "cell_type": "code",
   "execution_count": null,
   "metadata": {},
   "outputs": [],
   "source": []
  }
 ],
 "metadata": {
  "kernelspec": {
   "display_name": "Python 3",
   "language": "python",
   "name": "python3"
  },
  "language_info": {
   "codemirror_mode": {
    "name": "ipython",
    "version": 3
   },
   "file_extension": ".py",
   "mimetype": "text/x-python",
   "name": "python",
   "nbconvert_exporter": "python",
   "pygments_lexer": "ipython3",
   "version": "3.10.14"
  }
 },
 "nbformat": 4,
 "nbformat_minor": 2
}
